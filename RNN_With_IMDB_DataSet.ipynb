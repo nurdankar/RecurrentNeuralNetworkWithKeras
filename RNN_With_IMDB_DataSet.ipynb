{
  "nbformat": 4,
  "nbformat_minor": 0,
  "metadata": {
    "colab": {
      "name": "RNN_With_IMDB_DataSet.ipynb",
      "provenance": [],
      "collapsed_sections": [],
      "toc_visible": true,
      "authorship_tag": "ABX9TyMl7oZ4GL0QiyE8f27d2rvk",
      "include_colab_link": true
    },
    "kernelspec": {
      "name": "python3",
      "display_name": "Python 3"
    },
    "accelerator": "GPU"
  },
  "cells": [
    {
      "cell_type": "markdown",
      "metadata": {
        "id": "view-in-github",
        "colab_type": "text"
      },
      "source": [
        "<a href=\"https://colab.research.google.com/github/nurdankar/RecurrentNeuralNetwork_With_Keras/blob/master/RNN_With_IMDB_DataSet.ipynb\" target=\"_parent\"><img src=\"https://colab.research.google.com/assets/colab-badge.svg\" alt=\"Open In Colab\"/></a>"
      ]
    },
    {
      "cell_type": "markdown",
      "metadata": {
        "id": "rZEwpiOnuQyJ",
        "colab_type": "text"
      },
      "source": [
        "# IMDB VERİ KÜMESİNDE YİNELEMELİ SİNİR AĞI OLUŞTURMA VE EĞİTME"
      ]
    },
    {
      "cell_type": "markdown",
      "metadata": {
        "id": "wmYp7b3euD5A",
        "colab_type": "text"
      },
      "source": [
        "## Kimlik Doğrulama ve Dosya Kontrolü"
      ]
    },
    {
      "cell_type": "code",
      "metadata": {
        "id": "UEBTkgXheRmU",
        "colab_type": "code",
        "colab": {
          "base_uri": "https://localhost:8080/",
          "height": 143
        },
        "outputId": "76b7f37f-1796-4037-9975-63ff5eb35644"
      },
      "source": [
        "from google.colab import drive\n",
        "drive.mount('/gdrive')\n",
        "%cd /gdrive"
      ],
      "execution_count": 22,
      "outputs": [
        {
          "output_type": "stream",
          "text": [
            "Go to this URL in a browser: https://accounts.google.com/o/oauth2/auth?client_id=947318989803-6bn6qk8qdgf4n4g3pfee6491hc0brc4i.apps.googleusercontent.com&redirect_uri=urn%3aietf%3awg%3aoauth%3a2.0%3aoob&scope=email%20https%3a%2f%2fwww.googleapis.com%2fauth%2fdocs.test%20https%3a%2f%2fwww.googleapis.com%2fauth%2fdrive%20https%3a%2f%2fwww.googleapis.com%2fauth%2fdrive.photos.readonly%20https%3a%2f%2fwww.googleapis.com%2fauth%2fpeopleapi.readonly&response_type=code\n",
            "\n",
            "Enter your authorization code:\n",
            "4/4AHw7J3GccfOl8tmF9gPk7kppGbhpjQtIqpVVU-OKjQIZ6jVFcRPF7o\n",
            "Mounted at /gdrive\n",
            "/gdrive\n"
          ],
          "name": "stdout"
        }
      ]
    },
    {
      "cell_type": "code",
      "metadata": {
        "id": "EAaByNnJfHHR",
        "colab_type": "code",
        "colab": {
          "base_uri": "https://localhost:8080/",
          "height": 34
        },
        "outputId": "9cce8374-5868-4c9d-8552-3badfa362412"
      },
      "source": [
        "import os\n",
        "os.chdir('/gdrive/My Drive/Calısma_Ortamı/YinelemeliSinirAğları')\n",
        "!ls"
      ],
      "execution_count": 23,
      "outputs": [
        {
          "output_type": "stream",
          "text": [
            "Basic_RNN.ipynb  RNN_With_IMDB_DataSet.ipynb\n"
          ],
          "name": "stdout"
        }
      ]
    },
    {
      "cell_type": "markdown",
      "metadata": {
        "id": "wW3pjZVkuhwk",
        "colab_type": "text"
      },
      "source": [
        "## Gerekli Kütüphanelerin Yüklenmesi"
      ]
    },
    {
      "cell_type": "code",
      "metadata": {
        "id": "w9vjjQ18v8pE",
        "colab_type": "code",
        "colab": {}
      },
      "source": [
        "from keras.layers import SimpleRNN"
      ],
      "execution_count": 24,
      "outputs": []
    },
    {
      "cell_type": "code",
      "metadata": {
        "id": "KMyZwmJEfLo_",
        "colab_type": "code",
        "colab": {}
      },
      "source": [
        "from keras.models import Sequential\n",
        "from keras.layers import Embedding"
      ],
      "execution_count": 25,
      "outputs": []
    },
    {
      "cell_type": "markdown",
      "metadata": {
        "id": "BB7XBVfTu5t9",
        "colab_type": "text"
      },
      "source": [
        "## 1. Bir RNN Katmanı"
      ]
    },
    {
      "cell_type": "code",
      "metadata": {
        "id": "J8_NlbcWvCBF",
        "colab_type": "code",
        "colab": {
          "base_uri": "https://localhost:8080/",
          "height": 230
        },
        "outputId": "479d9776-fd20-4512-e3b2-ba98324bed9b"
      },
      "source": [
        "model = Sequential()\n",
        "model.add(Embedding(1000, 32))     # Giriş Katmanı\n",
        "model.add(SimpleRNN(32))           # Son Katman\n",
        "model.summary()"
      ],
      "execution_count": 26,
      "outputs": [
        {
          "output_type": "stream",
          "text": [
            "Model: \"sequential_1\"\n",
            "_________________________________________________________________\n",
            "Layer (type)                 Output Shape              Param #   \n",
            "=================================================================\n",
            "embedding_1 (Embedding)      (None, None, 32)          32000     \n",
            "_________________________________________________________________\n",
            "simple_rnn (SimpleRNN)       (None, 32)                2080      \n",
            "=================================================================\n",
            "Total params: 34,080\n",
            "Trainable params: 34,080\n",
            "Non-trainable params: 0\n",
            "_________________________________________________________________\n"
          ],
          "name": "stdout"
        }
      ]
    },
    {
      "cell_type": "markdown",
      "metadata": {
        "id": "x69_wknDxGq2",
        "colab_type": "text"
      },
      "source": [
        "## 2. Boyutlandırılmış RNN Katmanı"
      ]
    },
    {
      "cell_type": "code",
      "metadata": {
        "id": "-8rEuU6dxOs3",
        "colab_type": "code",
        "colab": {
          "base_uri": "https://localhost:8080/",
          "height": 230
        },
        "outputId": "d149cdb9-0af1-4721-f587-9b6aad0937fc"
      },
      "source": [
        "model = Sequential()\n",
        "model.add(Embedding(1000, 32))   \n",
        "model.add(SimpleRNN(32, return_sequences = True))  \n",
        "model.summary()"
      ],
      "execution_count": 27,
      "outputs": [
        {
          "output_type": "stream",
          "text": [
            "Model: \"sequential_2\"\n",
            "_________________________________________________________________\n",
            "Layer (type)                 Output Shape              Param #   \n",
            "=================================================================\n",
            "embedding_2 (Embedding)      (None, None, 32)          32000     \n",
            "_________________________________________________________________\n",
            "simple_rnn_1 (SimpleRNN)     (None, None, 32)          2080      \n",
            "=================================================================\n",
            "Total params: 34,080\n",
            "Trainable params: 34,080\n",
            "Non-trainable params: 0\n",
            "_________________________________________________________________\n"
          ],
          "name": "stdout"
        }
      ]
    },
    {
      "cell_type": "markdown",
      "metadata": {
        "id": "wW17HVB9yZQF",
        "colab_type": "text"
      },
      "source": [
        "## 3. Ardışık RNN Katmanları"
      ]
    },
    {
      "cell_type": "code",
      "metadata": {
        "id": "b_Zj1XrXyeG4",
        "colab_type": "code",
        "colab": {
          "base_uri": "https://localhost:8080/",
          "height": 372
        },
        "outputId": "e2a98376-6361-4a24-c188-6e8ecdade533"
      },
      "source": [
        "model = Sequential()\n",
        "model.add(Embedding(1000, 32))   \n",
        "model.add(SimpleRNN(32, return_sequences = True))  \n",
        "model.add(SimpleRNN(32, return_sequences = True))  \n",
        "model.add(SimpleRNN(32, return_sequences = True))  \n",
        "model.add(SimpleRNN(32, return_sequences = True))  \n",
        "model.add(SimpleRNN(32, ))  \n",
        "model.summary()"
      ],
      "execution_count": 28,
      "outputs": [
        {
          "output_type": "stream",
          "text": [
            "Model: \"sequential_3\"\n",
            "_________________________________________________________________\n",
            "Layer (type)                 Output Shape              Param #   \n",
            "=================================================================\n",
            "embedding_3 (Embedding)      (None, None, 32)          32000     \n",
            "_________________________________________________________________\n",
            "simple_rnn_2 (SimpleRNN)     (None, None, 32)          2080      \n",
            "_________________________________________________________________\n",
            "simple_rnn_3 (SimpleRNN)     (None, None, 32)          2080      \n",
            "_________________________________________________________________\n",
            "simple_rnn_4 (SimpleRNN)     (None, None, 32)          2080      \n",
            "_________________________________________________________________\n",
            "simple_rnn_5 (SimpleRNN)     (None, None, 32)          2080      \n",
            "_________________________________________________________________\n",
            "simple_rnn_6 (SimpleRNN)     (None, 32)                2080      \n",
            "=================================================================\n",
            "Total params: 42,400\n",
            "Trainable params: 42,400\n",
            "Non-trainable params: 0\n",
            "_________________________________________________________________\n"
          ],
          "name": "stdout"
        }
      ]
    },
    {
      "cell_type": "markdown",
      "metadata": {
        "id": "rFWxGZx6zaRr",
        "colab_type": "text"
      },
      "source": [
        "#IMDB VERİ KÜMESİNİ HAZIRLAMAK"
      ]
    },
    {
      "cell_type": "code",
      "metadata": {
        "id": "gB7tRmvazeAs",
        "colab_type": "code",
        "colab": {}
      },
      "source": [
        "from keras.datasets import imdb\n",
        "from keras_preprocessing import sequence"
      ],
      "execution_count": 29,
      "outputs": []
    },
    {
      "cell_type": "code",
      "metadata": {
        "id": "y7i_VE5SAEkW",
        "colab_type": "code",
        "colab": {}
      },
      "source": [
        "num_features = 1000\n",
        "maxlen = 500\n",
        "batch_size = 32"
      ],
      "execution_count": 30,
      "outputs": []
    },
    {
      "cell_type": "code",
      "metadata": {
        "id": "I3aGQ7_mAU8M",
        "colab_type": "code",
        "colab": {
          "base_uri": "https://localhost:8080/",
          "height": 34
        },
        "outputId": "b669740d-431b-4931-fb41-5e1021430fbb"
      },
      "source": [
        "print('Load data...')\n",
        "(input_train, y_train), (input_test, y_test) = imdb.load_data(num_words = num_features)"
      ],
      "execution_count": 31,
      "outputs": [
        {
          "output_type": "stream",
          "text": [
            "Load data...\n"
          ],
          "name": "stdout"
        }
      ]
    },
    {
      "cell_type": "code",
      "metadata": {
        "id": "tqJPvPRiQL5D",
        "colab_type": "code",
        "colab": {
          "base_uri": "https://localhost:8080/",
          "height": 34
        },
        "outputId": "57474073-5971-4f6e-b4a3-805992a019cd"
      },
      "source": [
        "print('pad sequence ( sample x train)')\n",
        "\n",
        "input_train = sequence.pad_sequences(input_train, maxlen = maxlen)\n",
        "input_test = sequence.pad_sequences(input_test, maxlen = maxlen)\n"
      ],
      "execution_count": 32,
      "outputs": [
        {
          "output_type": "stream",
          "text": [
            "pad sequence ( sample x train)\n"
          ],
          "name": "stdout"
        }
      ]
    },
    {
      "cell_type": "code",
      "metadata": {
        "id": "P-4zlXq1LXq7",
        "colab_type": "code",
        "colab": {
          "base_uri": "https://localhost:8080/",
          "height": 52
        },
        "outputId": "94b49a19-9cdd-40a2-b29f-eb292bf23509"
      },
      "source": [
        "print(len(input_train), 'Eğitim dizisi', input_train.shape)\n",
        "print(len(input_test), 'Test dizisi', input_test.shape)"
      ],
      "execution_count": 33,
      "outputs": [
        {
          "output_type": "stream",
          "text": [
            "25000 Eğitim dizisi (25000, 500)\n",
            "25000 Test dizisi (25000, 500)\n"
          ],
          "name": "stdout"
        }
      ]
    },
    {
      "cell_type": "markdown",
      "metadata": {
        "id": "MAsLyWh0M71e",
        "colab_type": "text"
      },
      "source": [
        "# EMBEDDING VE SimpleRNN/LSTM KATMANININ EĞİTİLMESİ"
      ]
    },
    {
      "cell_type": "code",
      "metadata": {
        "id": "17uVH5T9NbhM",
        "colab_type": "code",
        "colab": {}
      },
      "source": [
        "from keras.layers import Dense\n",
        "from keras import layers"
      ],
      "execution_count": 34,
      "outputs": []
    },
    {
      "cell_type": "markdown",
      "metadata": {
        "id": "_Vwo6r38WDvC",
        "colab_type": "text"
      },
      "source": [
        "## Basit Bir RNN İle Modelleme"
      ]
    },
    {
      "cell_type": "code",
      "metadata": {
        "id": "WjJ2kbO5OH34",
        "colab_type": "code",
        "colab": {
          "base_uri": "https://localhost:8080/",
          "height": 265
        },
        "outputId": "83e42292-08b4-4b06-dc9e-bcfc7d479ba3"
      },
      "source": [
        "model = Sequential()\n",
        "model.add(Embedding(num_features, 32))\n",
        "model.add(SimpleRNN(32))\n",
        "model.add(Dense(1, activation = 'sigmoid'))\n",
        "model.summary()"
      ],
      "execution_count": 37,
      "outputs": [
        {
          "output_type": "stream",
          "text": [
            "Model: \"sequential_6\"\n",
            "_________________________________________________________________\n",
            "Layer (type)                 Output Shape              Param #   \n",
            "=================================================================\n",
            "embedding_6 (Embedding)      (None, None, 32)          32000     \n",
            "_________________________________________________________________\n",
            "simple_rnn_8 (SimpleRNN)     (None, 32)                2080      \n",
            "_________________________________________________________________\n",
            "dense_3 (Dense)              (None, 1)                 33        \n",
            "=================================================================\n",
            "Total params: 34,113\n",
            "Trainable params: 34,113\n",
            "Non-trainable params: 0\n",
            "_________________________________________________________________\n"
          ],
          "name": "stdout"
        }
      ]
    },
    {
      "cell_type": "markdown",
      "metadata": {
        "id": "meySWkmkWO48",
        "colab_type": "text"
      },
      "source": [
        "## Basit Bir LSTM İle Modelleme"
      ]
    },
    {
      "cell_type": "code",
      "metadata": {
        "id": "flB2x0FpWQNK",
        "colab_type": "code",
        "colab": {
          "base_uri": "https://localhost:8080/",
          "height": 265
        },
        "outputId": "42a26a47-9a6f-4411-ffd8-31056def8fca"
      },
      "source": [
        "model = Sequential()\n",
        "model.add(layers.Embedding(num_features, 32))\n",
        "model.add(layers.Bidirectional(layers.LSTM(32)))\n",
        "model.add(Dense(1, activation = 'sigmoid'))\n",
        "model.summary()"
      ],
      "execution_count": 47,
      "outputs": [
        {
          "output_type": "stream",
          "text": [
            "Model: \"sequential_7\"\n",
            "_________________________________________________________________\n",
            "Layer (type)                 Output Shape              Param #   \n",
            "=================================================================\n",
            "embedding_7 (Embedding)      (None, None, 32)          32000     \n",
            "_________________________________________________________________\n",
            "bidirectional_2 (Bidirection (None, 64)                16640     \n",
            "_________________________________________________________________\n",
            "dense_4 (Dense)              (None, 1)                 65        \n",
            "=================================================================\n",
            "Total params: 48,705\n",
            "Trainable params: 48,705\n",
            "Non-trainable params: 0\n",
            "_________________________________________________________________\n"
          ],
          "name": "stdout"
        }
      ]
    },
    {
      "cell_type": "markdown",
      "metadata": {
        "id": "WjUctvSZcf-j",
        "colab_type": "text"
      },
      "source": [
        "## RNN İçin Modelin Derlenmesi"
      ]
    },
    {
      "cell_type": "code",
      "metadata": {
        "id": "-rx_bcQPRxfY",
        "colab_type": "code",
        "colab": {
          "base_uri": "https://localhost:8080/",
          "height": 372
        },
        "outputId": "ea180f90-0634-45c3-a20f-ea7aa06cf147"
      },
      "source": [
        "model.compile(optimizer = 'rmsprop', loss = 'binary_crossentropy', metrics = ['acc'])\n",
        "history = model.fit(input_train, y_train, \n",
        "                    epochs = 10, \n",
        "                    batch_size = 128, \n",
        "                    validation_split = 0.2)"
      ],
      "execution_count": 38,
      "outputs": [
        {
          "output_type": "stream",
          "text": [
            "Epoch 1/10\n",
            "157/157 [==============================] - 55s 348ms/step - loss: 0.6565 - acc: 0.5968 - val_loss: 0.5386 - val_acc: 0.7518\n",
            "Epoch 2/10\n",
            "157/157 [==============================] - 55s 351ms/step - loss: 0.4812 - acc: 0.7825 - val_loss: 0.4581 - val_acc: 0.7896\n",
            "Epoch 3/10\n",
            "157/157 [==============================] - 55s 351ms/step - loss: 0.3990 - acc: 0.8280 - val_loss: 0.4687 - val_acc: 0.7716\n",
            "Epoch 4/10\n",
            "157/157 [==============================] - 55s 353ms/step - loss: 0.3724 - acc: 0.8415 - val_loss: 0.3872 - val_acc: 0.8434\n",
            "Epoch 5/10\n",
            "157/157 [==============================] - 55s 353ms/step - loss: 0.3795 - acc: 0.8430 - val_loss: 0.4833 - val_acc: 0.7542\n",
            "Epoch 6/10\n",
            "157/157 [==============================] - 55s 350ms/step - loss: 0.3434 - acc: 0.8525 - val_loss: 0.4227 - val_acc: 0.8320\n",
            "Epoch 7/10\n",
            "157/157 [==============================] - 56s 357ms/step - loss: 0.3361 - acc: 0.8631 - val_loss: 0.4393 - val_acc: 0.8100\n",
            "Epoch 8/10\n",
            "157/157 [==============================] - 56s 356ms/step - loss: 0.3055 - acc: 0.8760 - val_loss: 0.4449 - val_acc: 0.8052\n",
            "Epoch 9/10\n",
            "157/157 [==============================] - 56s 357ms/step - loss: 0.2877 - acc: 0.8852 - val_loss: 0.5048 - val_acc: 0.7774\n",
            "Epoch 10/10\n",
            "157/157 [==============================] - 56s 356ms/step - loss: 0.2743 - acc: 0.8903 - val_loss: 0.4619 - val_acc: 0.7930\n"
          ],
          "name": "stdout"
        }
      ]
    },
    {
      "cell_type": "markdown",
      "metadata": {
        "id": "tYOy-ZYzc76y",
        "colab_type": "text"
      },
      "source": [
        "## LSTM İçin Modelin Derlenmesi"
      ]
    },
    {
      "cell_type": "code",
      "metadata": {
        "id": "T9E8QXY5dQc7",
        "colab_type": "code",
        "colab": {
          "base_uri": "https://localhost:8080/",
          "height": 372
        },
        "outputId": "95d11ade-dd25-4d25-a643-9f5f119beb7e"
      },
      "source": [
        "model.compile(optimizer='rmsprop', loss='binary_crossentropy', metrics=['acc'])\n",
        "history = model.fit(input_train, y_train,\n",
        "                    epochs = 10,\n",
        "                    batch_size = 128,\n",
        "                    validation_split=0.2)"
      ],
      "execution_count": 48,
      "outputs": [
        {
          "output_type": "stream",
          "text": [
            "Epoch 1/10\n",
            "157/157 [==============================] - 8s 50ms/step - loss: 0.5624 - acc: 0.7193 - val_loss: 0.4955 - val_acc: 0.7966\n",
            "Epoch 2/10\n",
            "157/157 [==============================] - 7s 45ms/step - loss: 0.3963 - acc: 0.8357 - val_loss: 0.4450 - val_acc: 0.8196\n",
            "Epoch 3/10\n",
            "157/157 [==============================] - 7s 45ms/step - loss: 0.3611 - acc: 0.8486 - val_loss: 0.4175 - val_acc: 0.8100\n",
            "Epoch 4/10\n",
            "157/157 [==============================] - 7s 46ms/step - loss: 0.3482 - acc: 0.8533 - val_loss: 0.5087 - val_acc: 0.8038\n",
            "Epoch 5/10\n",
            "157/157 [==============================] - 7s 46ms/step - loss: 0.3350 - acc: 0.8619 - val_loss: 0.3830 - val_acc: 0.8322\n",
            "Epoch 6/10\n",
            "157/157 [==============================] - 7s 46ms/step - loss: 0.3275 - acc: 0.8646 - val_loss: 0.4158 - val_acc: 0.8470\n",
            "Epoch 7/10\n",
            "157/157 [==============================] - 7s 48ms/step - loss: 0.3190 - acc: 0.8680 - val_loss: 0.3306 - val_acc: 0.8558\n",
            "Epoch 8/10\n",
            "157/157 [==============================] - 7s 46ms/step - loss: 0.3101 - acc: 0.8735 - val_loss: 0.3394 - val_acc: 0.8588\n",
            "Epoch 9/10\n",
            "157/157 [==============================] - 7s 46ms/step - loss: 0.3045 - acc: 0.8748 - val_loss: 0.3788 - val_acc: 0.8550\n",
            "Epoch 10/10\n",
            "157/157 [==============================] - 7s 46ms/step - loss: 0.3011 - acc: 0.8751 - val_loss: 0.3550 - val_acc: 0.8564\n"
          ],
          "name": "stdout"
        }
      ]
    },
    {
      "cell_type": "markdown",
      "metadata": {
        "id": "ilTIFQht3ET3",
        "colab_type": "text"
      },
      "source": [
        "# RNN İÇİN SONUÇLARIN ÇİZDİRİLMESİ"
      ]
    },
    {
      "cell_type": "code",
      "metadata": {
        "id": "nuKNmAwN2ved",
        "colab_type": "code",
        "colab": {}
      },
      "source": [
        "import matplotlib.pyplot as plt"
      ],
      "execution_count": 39,
      "outputs": []
    },
    {
      "cell_type": "code",
      "metadata": {
        "id": "wQrCRAXFDVWO",
        "colab_type": "code",
        "colab": {}
      },
      "source": [
        "acc = history.history['acc']\n",
        "val_acc = history.history['val_acc']\n",
        "loss = history.history['loss']\n",
        "val_loss = history.history['val_loss']"
      ],
      "execution_count": 40,
      "outputs": []
    },
    {
      "cell_type": "code",
      "metadata": {
        "id": "BaFIyAutD4Ti",
        "colab_type": "code",
        "colab": {}
      },
      "source": [
        "epochs = range(1, len(acc) + 1)"
      ],
      "execution_count": 41,
      "outputs": []
    },
    {
      "cell_type": "code",
      "metadata": {
        "id": "BXygzEVpELHY",
        "colab_type": "code",
        "colab": {
          "base_uri": "https://localhost:8080/",
          "height": 546
        },
        "outputId": "27f0a696-9463-4390-aece-66603fb240cf"
      },
      "source": [
        "plt.plot(epochs, acc, 'm*-', label = 'Eğitim Başarımı')\n",
        "plt.plot(epochs, val_acc, 'g*-', label = 'Doğrulama/Geçerleme Başarımı')\n",
        "plt.title('Eğitim ve Doğrulama İçin Başarım')\n",
        "plt.legend()\n",
        "\n",
        "plt.figure()\n",
        "\n",
        "plt.plot(epochs, loss, 'm*-', label = 'Eğitim Kaybı')\n",
        "plt.plot(epochs, val_loss, 'g*-', label = 'Doğrulama/Geçerleme Kaybı')\n",
        "plt.title('Eğitim ve Doğrulama İçin Kayıp')\n",
        "plt.legend()\n",
        "\n",
        "plt.show()"
      ],
      "execution_count": 42,
      "outputs": [
        {
          "output_type": "display_data",
          "data": {
            "image/png": "[encoded data removed]",
            "text/plain": [
              "<Figure size 432x288 with 1 Axes>"
            ]
          },
          "metadata": {
            "tags": [],
            "needs_background": "light"
          }
        },
        {
          "output_type": "display_data",
          "data": {
            "image/png": "[encoded data removed]",
            "text/plain": [
              "<Figure size 432x288 with 1 Axes>"
            ]
          },
          "metadata": {
            "tags": [],
            "needs_background": "light"
          }
        }
      ]
    },
    {
      "cell_type": "code",
      "metadata": {
        "id": "9J-XQuhiTxZQ",
        "colab_type": "code",
        "colab": {
          "base_uri": "https://localhost:8080/",
          "height": 54
        },
        "outputId": "1acf679a-47b0-4fb8-9630-f1ca1f281299"
      },
      "source": [
        "print(acc, 'Eğitim Başarımı')"
      ],
      "execution_count": 43,
      "outputs": [
        {
          "output_type": "stream",
          "text": [
            "[0.5968000292778015, 0.7824500203132629, 0.8279500007629395, 0.8415499925613403, 0.8429999947547913, 0.8525000214576721, 0.863099992275238, 0.8760499954223633, 0.8851500153541565, 0.8903499841690063] Eğitim Başarımı\n"
          ],
          "name": "stdout"
        }
      ]
    },
    {
      "cell_type": "code",
      "metadata": {
        "id": "7OlOrfnL-Rlw",
        "colab_type": "code",
        "colab": {
          "base_uri": "https://localhost:8080/",
          "height": 54
        },
        "outputId": "a598761f-329b-437d-a06f-6d123f9be3ff"
      },
      "source": [
        "print(val_acc, 'Doğrulama/Geçerleme Başarımı')"
      ],
      "execution_count": 44,
      "outputs": [
        {
          "output_type": "stream",
          "text": [
            "[0.751800000667572, 0.7896000146865845, 0.7716000080108643, 0.8434000015258789, 0.7541999816894531, 0.8320000171661377, 0.8100000023841858, 0.8051999807357788, 0.777400016784668, 0.7929999828338623] Doğrulama/Geçerleme Başarımı\n"
          ],
          "name": "stdout"
        }
      ]
    },
    {
      "cell_type": "code",
      "metadata": {
        "id": "VrfwwWaK87d6",
        "colab_type": "code",
        "colab": {
          "base_uri": "https://localhost:8080/",
          "height": 54
        },
        "outputId": "1879390a-6305-46bf-a667-ebd5a5997b28"
      },
      "source": [
        "print(loss, 'Eğitim Kaybı')"
      ],
      "execution_count": 45,
      "outputs": [
        {
          "output_type": "stream",
          "text": [
            "[0.6564896702766418, 0.4811919331550598, 0.3989596664905548, 0.3724236488342285, 0.37948787212371826, 0.3433917462825775, 0.33605092763900757, 0.30546867847442627, 0.28770750761032104, 0.27426373958587646] Eğitim Kaybı\n"
          ],
          "name": "stdout"
        }
      ]
    },
    {
      "cell_type": "code",
      "metadata": {
        "id": "pd1CNOR8-Ys_",
        "colab_type": "code",
        "colab": {
          "base_uri": "https://localhost:8080/",
          "height": 54
        },
        "outputId": "9f3f2bec-45c4-4475-de1c-40cee2b82b3b"
      },
      "source": [
        "print(val_loss, 'Doğrulama/Geçerleme Kaybı')"
      ],
      "execution_count": 46,
      "outputs": [
        {
          "output_type": "stream",
          "text": [
            "[0.5386369228363037, 0.45812949538230896, 0.46873775124549866, 0.38722556829452515, 0.48333740234375, 0.4226573705673218, 0.43934282660484314, 0.44488397240638733, 0.504797637462616, 0.46191275119781494] Doğrulama/Geçerleme Kaybı\n"
          ],
          "name": "stdout"
        }
      ]
    },
    {
      "cell_type": "markdown",
      "metadata": {
        "id": "A2MEDNk6hFy7",
        "colab_type": "text"
      },
      "source": [
        "# LSTM İÇİN SONUÇLARIN ÇİZDİRİLMESİ"
      ]
    },
    {
      "cell_type": "code",
      "metadata": {
        "id": "zDWaswbYhZJ_",
        "colab_type": "code",
        "colab": {}
      },
      "source": [
        "import matplotlib.pyplot as plt"
      ],
      "execution_count": 49,
      "outputs": []
    },
    {
      "cell_type": "code",
      "metadata": {
        "id": "vtnMwdk5hJlD",
        "colab_type": "code",
        "colab": {}
      },
      "source": [
        "acc = history.history['acc']\n",
        "val_acc = history.history['val_acc']\n",
        "loss = history.history['loss']\n",
        "val_loss = history.history['val_loss']"
      ],
      "execution_count": 50,
      "outputs": []
    },
    {
      "cell_type": "code",
      "metadata": {
        "id": "Zhfg81-mhdTS",
        "colab_type": "code",
        "colab": {}
      },
      "source": [
        "epochs = range(1, len(acc) + 1)"
      ],
      "execution_count": 51,
      "outputs": []
    },
    {
      "cell_type": "code",
      "metadata": {
        "id": "QpKq6AuMhhUA",
        "colab_type": "code",
        "colab": {
          "base_uri": "https://localhost:8080/",
          "height": 546
        },
        "outputId": "2195b83a-a3f5-4ec6-fba8-8d0af5e1ede2"
      },
      "source": [
        "plt.plot(epochs, acc, 'k*-', label = 'Eğitim Başarımı')\n",
        "plt.plot(epochs, val_acc, 'c*-', label = 'Doğrulama/Geçerleme Başarımı')\n",
        "plt.title('Eğitim ve Doğrulama İçin Başarım')\n",
        "plt.legend()\n",
        "\n",
        "plt.figure()\n",
        "\n",
        "plt.plot(epochs, loss, 'k*-', label = 'Eğitim Kaybı')\n",
        "plt.plot(epochs, val_loss, 'c*-', label = 'Doğrulama/Geçerleme Kaybı')\n",
        "plt.title('Eğitim ve Doğrulama İçin Kayıp')\n",
        "plt.legend()\n",
        "\n",
        "plt.show()"
      ],
      "execution_count": 70,
      "outputs": [
        {
          "output_type": "display_data",
          "data": {
            "image/png": "[encoded data removed]",
            "text/plain": [
              "<Figure size 432x288 with 1 Axes>"
            ]
          },
          "metadata": {
            "tags": [],
            "needs_background": "light"
          }
        },
        {
          "output_type": "display_data",
          "data": {
            "image/png": "[encoded data removed]",
            "text/plain": [
              "<Figure size 432x288 with 1 Axes>"
            ]
          },
          "metadata": {
            "tags": [],
            "needs_background": "light"
          }
        }
      ]
    },
    {
      "cell_type": "code",
      "metadata": {
        "id": "PiNl335u9xpC",
        "colab_type": "code",
        "colab": {
          "base_uri": "https://localhost:8080/",
          "height": 54
        },
        "outputId": "ae64ef67-0bca-430f-8348-71b1d5a205e1"
      },
      "source": [
        "print(acc, 'Eğitim Başarımı')"
      ],
      "execution_count": 53,
      "outputs": [
        {
          "output_type": "stream",
          "text": [
            "[0.7192500233650208, 0.8357499837875366, 0.8486499786376953, 0.8532999753952026, 0.8618500232696533, 0.8646000027656555, 0.8679999709129333, 0.8735499978065491, 0.874750018119812, 0.8750500082969666] Eğitim Başarımı\n"
          ],
          "name": "stdout"
        }
      ]
    },
    {
      "cell_type": "code",
      "metadata": {
        "id": "zEiCJMKH99UU",
        "colab_type": "code",
        "colab": {
          "base_uri": "https://localhost:8080/",
          "height": 54
        },
        "outputId": "838bb61a-2172-4f14-d4d3-e8c46635a079"
      },
      "source": [
        "print(val_acc, 'Doğrulama/Geçerleme Başarımı')"
      ],
      "execution_count": 55,
      "outputs": [
        {
          "output_type": "stream",
          "text": [
            "[0.7965999841690063, 0.819599986076355, 0.8100000023841858, 0.8037999868392944, 0.8321999907493591, 0.847000002861023, 0.8557999730110168, 0.8587999939918518, 0.8550000190734863, 0.8564000129699707] Doğrulama/Geçerleme Başarımı\n"
          ],
          "name": "stdout"
        }
      ]
    },
    {
      "cell_type": "code",
      "metadata": {
        "id": "-qWiBdnz93nc",
        "colab_type": "code",
        "colab": {
          "base_uri": "https://localhost:8080/",
          "height": 54
        },
        "outputId": "762e2fcd-6c82-479e-a7de-ef0ae56cdce5"
      },
      "source": [
        "print(loss, 'Eğitim Kaybı')"
      ],
      "execution_count": 56,
      "outputs": [
        {
          "output_type": "stream",
          "text": [
            "[0.5624496340751648, 0.3963117301464081, 0.36112573742866516, 0.34815770387649536, 0.3350328505039215, 0.32746031880378723, 0.3190133571624756, 0.31005024909973145, 0.3045118749141693, 0.3011394441127777] Eğitim Kaybı\n"
          ],
          "name": "stdout"
        }
      ]
    },
    {
      "cell_type": "code",
      "metadata": {
        "id": "2tW1faVr-EOF",
        "colab_type": "code",
        "colab": {
          "base_uri": "https://localhost:8080/",
          "height": 54
        },
        "outputId": "39ca0943-f79e-41d9-f048-c9afef8c3ed0"
      },
      "source": [
        "print(val_loss, 'Doğrulama/Geçerleme Kaybı')"
      ],
      "execution_count": 57,
      "outputs": [
        {
          "output_type": "stream",
          "text": [
            "[0.49554476141929626, 0.4449927806854248, 0.41745424270629883, 0.5086711049079895, 0.3829655647277832, 0.4158337414264679, 0.33064383268356323, 0.3394484221935272, 0.37876418232917786, 0.3549569249153137] Doğrulama/Geçerleme Kaybı\n"
          ],
          "name": "stdout"
        }
      ]
    },
    {
      "cell_type": "markdown",
      "metadata": {
        "id": "f3w0c2ySjOTm",
        "colab_type": "text"
      },
      "source": [
        "# REFERANSLAR\n",
        "\n",
        "1. Merve Ayyüce Kızrak, Keras_ile_Derin_Ogrenmeye_Giris, GitHub Repository\n",
        "\n",
        "\n",
        "\n",
        "\n",
        "\n"
      ]
    },
    {
      "cell_type": "code",
      "metadata": {
        "id": "7B6LPEi2kAoB",
        "colab_type": "code",
        "colab": {}
      },
      "source": [
        ""
      ],
      "execution_count": null,
      "outputs": []
    }
  ]
}